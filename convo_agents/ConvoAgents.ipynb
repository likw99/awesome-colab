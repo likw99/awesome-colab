{
  "cells": [
    {
      "cell_type": "code",
      "execution_count": null,
      "id": "b6d25ba0-18f8-41e2-ba3a-62998051e87f",
      "metadata": {
        "tags": [],
        "id": "b6d25ba0-18f8-41e2-ba3a-62998051e87f"
      },
      "outputs": [],
      "source": [
        "import logging\n",
        "import sys\n",
        "\n",
        "logging.basicConfig(stream=sys.stdout, level=logging.CRITICAL)\n",
        "logging.getLogger().addHandler(logging.StreamHandler(stream=sys.stdout))\n",
        "logger = logging.getLogger()\n",
        "logger.disabled = True\n",
        "\n",
        "from convo_agents import ConvoAgent, format_text\n",
        "from llama_index import LLMPredictor, ServiceContext, GPTListIndex\n",
        "from langchain.chat_models import ChatOpenAI\n",
        "from typing import Optional"
      ]
    },
    {
      "cell_type": "code",
      "execution_count": null,
      "id": "00a03b81-6b7d-4083-b1ba-6adcbccbb0c7",
      "metadata": {
        "tags": [],
        "id": "00a03b81-6b7d-4083-b1ba-6adcbccbb0c7"
      },
      "outputs": [],
      "source": [
        "# llm_predictor = LLMPredictor(llm=ChatOpenAI(temperature=0, model_name=\"gpt-3.5-turbo\"))\n",
        "llm_predictor = LLMPredictor(llm=ChatOpenAI(temperature=0, model_name=\"gpt4\"))\n",
        "service_context = ServiceContext.from_defaults(llm_predictor=llm_predictor)"
      ]
    },
    {
      "cell_type": "markdown",
      "id": "72dc1963-0f71-41dc-86c2-009c7361f7dc",
      "metadata": {
        "id": "72dc1963-0f71-41dc-86c2-009c7361f7dc"
      },
      "source": [
        "## Define Conversation Agent Loop\n",
        "\n",
        "Define conversation agent loop between two agents, Alice and Bob."
      ]
    },
    {
      "cell_type": "code",
      "execution_count": null,
      "id": "5bacbb7c-f8ca-4d89-ac60-0f78369cec3c",
      "metadata": {
        "tags": [],
        "id": "5bacbb7c-f8ca-4d89-ac60-0f78369cec3c"
      },
      "outputs": [],
      "source": [
        "def run_conversation_loop(\n",
        "    alice: ConvoAgent, \n",
        "    bob: ConvoAgent, \n",
        "    alice_starter: Optional[str] = None, \n",
        "    bob_starter: Optional[str] = None\n",
        ") -> None:\n",
        "    \"\"\"Run conversation loop.\"\"\"\n",
        "    alice_starter = alice_starter or \"Hi, my name is Alice!\"\n",
        "    bob_starter = bob_starter or \"Hi, my name is Bob!\" \n",
        "\n",
        "    alice.add_message(alice_starter, \"Alice\")\n",
        "    bob.add_message(alice_starter, \"Alice\")\n",
        "\n",
        "    alice.add_message(bob_starter, \"Bob\")\n",
        "    bob.add_message(bob_starter, \"Bob\")\n",
        "    \n",
        "    # run conversation loop\n",
        "    num_iterations = 100\n",
        "    current_user = \"Alice\"\n",
        "    for _ in range(num_iterations):\n",
        "\n",
        "        agent = alice if current_user == \"Alice\" else bob\n",
        "        new_message = agent.generate_message()\n",
        "\n",
        "        message_to_print = format_text(new_message, current_user)\n",
        "        print(message_to_print)\n",
        "\n",
        "        alice.add_message(new_message, current_user)\n",
        "        bob.add_message(new_message, current_user)\n",
        "\n",
        "        current_user = \"Alice\" if current_user == \"Bob\" else \"Bob\"\n"
      ]
    },
    {
      "cell_type": "markdown",
      "id": "16ab0602-a656-4a78-89dd-a8ef89eb8daf",
      "metadata": {
        "id": "16ab0602-a656-4a78-89dd-a8ef89eb8daf"
      },
      "source": [
        "## Casual Date Conversation"
      ]
    },
    {
      "cell_type": "code",
      "execution_count": null,
      "id": "4c6794c5-3ca5-4bda-9e75-237ce356991c",
      "metadata": {
        "tags": [],
        "id": "4c6794c5-3ca5-4bda-9e75-237ce356991c"
      },
      "outputs": [],
      "source": [
        "alice_user_prefix_tmpl = (\n",
        "    \"Your name is {name}. \"\n",
        "    \"You are on a first date with another person named Bob. \"\n",
        "    \"We provide conversation context between you and Bob below. \"\n",
        ")\n",
        "bob_user_prefix_tmpl = (\n",
        "    \"Your name is {name}. \"\n",
        "    \"You are on a first date with another person named Alice. \"\n",
        "    \"We provide conversation context between you and Alice below. \"\n",
        ")\n",
        "alice = ConvoAgent.from_defaults(\n",
        "    name=\"Alice\", \n",
        "    service_context=service_context, \n",
        "    user_prefix_tmpl=alice_user_prefix_tmpl,\n",
        "    lt_memory=GPTListIndex([])\n",
        "    \n",
        ")\n",
        "bob = ConvoAgent.from_defaults(\n",
        "    name=\"Bob\", \n",
        "    service_context=service_context,\n",
        "    user_prefix_tmpl=bob_user_prefix_tmpl,\n",
        "    lt_memory=GPTListIndex([])\n",
        ")"
      ]
    },
    {
      "cell_type": "code",
      "execution_count": null,
      "id": "81791984-738c-4332-8e00-479d10434399",
      "metadata": {
        "tags": [],
        "id": "81791984-738c-4332-8e00-479d10434399"
      },
      "outputs": [],
      "source": [
        "run_conversation_loop(alice, bob)"
      ]
    },
    {
      "cell_type": "markdown",
      "id": "2064a38b-82c0-4dab-8886-eeb2fe357ad3",
      "metadata": {
        "id": "2064a38b-82c0-4dab-8886-eeb2fe357ad3"
      },
      "source": [
        "## Doctor Conversation"
      ]
    },
    {
      "cell_type": "code",
      "execution_count": null,
      "id": "86169549-0b98-4d09-adc5-e6a8ffb19c31",
      "metadata": {
        "tags": [],
        "id": "86169549-0b98-4d09-adc5-e6a8ffb19c31"
      },
      "outputs": [],
      "source": [
        "alice_user_prefix_tmpl = (\n",
        "    \"Your name is {name}. \"\n",
        "    \"You are a patient who is seeing the doctor, and are getting the results of a blood pressure checkup. \"\n",
        "    \"We provide conversation context between you and the doctor below. \"\n",
        "\n",
        ")\n",
        "bob_user_prefix_tmpl = (\n",
        "    \"Your name is {name}. \"\n",
        "    \"You are a doctor; you are describing the results of a blood pressure test to the patient. \"\n",
        "    \"We provide conversation context between you and the patient below. \"\n",
        ")\n",
        "alice = ConvoAgent.from_defaults(\n",
        "    name=\"Alice\", \n",
        "    service_context=service_context, \n",
        "    user_prefix_tmpl=alice_user_prefix_tmpl,\n",
        "    lt_memory=GPTListIndex([])\n",
        ")\n",
        "bob = ConvoAgent.from_defaults(\n",
        "    name=\"Bob\", \n",
        "    service_context=service_context,\n",
        "    user_prefix_tmpl=bob_user_prefix_tmpl,\n",
        "    lt_memory=GPTListIndex([])\n",
        ")"
      ]
    },
    {
      "cell_type": "code",
      "execution_count": null,
      "id": "a2a3d69c-4470-43d0-95da-45f6670e3cef",
      "metadata": {
        "tags": [],
        "id": "a2a3d69c-4470-43d0-95da-45f6670e3cef"
      },
      "outputs": [],
      "source": [
        "run_conversation_loop(\n",
        "    alice, \n",
        "    bob,\n",
        "    \"So, you're telling me that my blood pressure is too high?\",\n",
        "    \"Yes\"\n",
        ")"
      ]
    },
    {
      "cell_type": "markdown",
      "id": "6dea734b-3324-4143-9026-6a170833ddcb",
      "metadata": {
        "id": "6dea734b-3324-4143-9026-6a170833ddcb"
      },
      "source": [
        "## Programming Interview Question"
      ]
    },
    {
      "cell_type": "code",
      "execution_count": null,
      "id": "0debff8a-812a-4619-970c-d05aa56ffd9b",
      "metadata": {
        "tags": [],
        "id": "0debff8a-812a-4619-970c-d05aa56ffd9b"
      },
      "outputs": [],
      "source": [
        "alice_user_prefix_tmpl = (\n",
        "    \"Your name is {name}. \"\n",
        "    \"You are interviewing for a software engineering job at Google, and you are speaking to the interviewer. \"\n",
        "    \"We provide conversation context between you and the interviewer below. \"\n",
        "    \"You want to ask fewer questions and get started on implementation sooner. \"\n",
        "\n",
        ")\n",
        "bob_user_prefix_tmpl = (\n",
        "    \"Your name is {name}. \"\n",
        "    \"You are an engineering manager at Google, and plan to ask technical interview questions to a candidate. \"\n",
        "    \"You want to ask the candidate to write code to perform binary search over a sorted list of numbers.  \"\n",
        "    \"If the candidate is implementing an incorrect solution, you want to critique their approach. \"\n",
        "    \"We provide conversation context between you and the interviewee below. \"\n",
        ")\n",
        "alice = ConvoAgent.from_defaults(\n",
        "    name=\"Alice\", \n",
        "    service_context=service_context, \n",
        "    user_prefix_tmpl=alice_user_prefix_tmpl,\n",
        "    lt_memory=GPTListIndex([])\n",
        ")\n",
        "bob = ConvoAgent.from_defaults(\n",
        "    name=\"Bob\", \n",
        "    service_context=service_context,\n",
        "    user_prefix_tmpl=bob_user_prefix_tmpl,\n",
        "    lt_memory=GPTListIndex([])\n",
        ")"
      ]
    },
    {
      "cell_type": "code",
      "execution_count": null,
      "id": "9bf1133a-9934-413e-86dd-1e959080e33d",
      "metadata": {
        "id": "9bf1133a-9934-413e-86dd-1e959080e33d",
        "outputId": "8d2f1992-6a66-49f2-a353-336a496261f1"
      },
      "outputs": [
        {
          "name": "stdout",
          "output_type": "stream",
          "text": [
            "Alice:  Could you tell me more about the programming question? I'm eager to get started on implementation.\n",
            "Bob:  The question is to write a program to perform binary search over a sorted list of numbers. Can you explain your approach to solving this problem?\n",
            "Alice:  Sure, my approach would be to use a loop to iterate through the list of numbers and compare each number to the target number. If the number is equal to the target number, the loop can return the index of the number. If the number is greater than the target number, the loop can move to the next number in the list. If the number is less than the target number, the loop can break and return the index of the number.\n",
            "Bob:  That's a good approach, but it won't work for binary search. Binary search requires that the list of numbers is sorted, so you need to use a different approach. Can you explain a different approach you could take to solve this problem?\n",
            "Alice:  Yes, I understand that binary search requires the list of numbers to be sorted. A different approach I could take is to use a divide and conquer algorithm to find the target number. The algorithm would divide the list of numbers into two halves, compare the target number to the middle number of the list, and then recursively search the half that contains the target number. This approach would be more efficient than the loop approach, as it would reduce the number of comparisons needed to find the target number.\n",
            "Bob:  That's a great approach, Alice. Can you explain how you would implement the divide and conquer algorithm in code?\n",
            "Alice:  Sure, I can explain how I would implement the divide and conquer algorithm in code. I would start by creating a function that takes in the list of numbers and the target number as parameters. Then, I would use a while loop to iterate through the list of numbers and compare each number to the target number. If the number is equal to the target number, the loop can return the index of the number. If the number is greater than the target number, the loop can move to the next number in the list. If the number is less than the target number, the loop can break and return the index of the number. Then, I would create a recursive function that takes in the list of numbers and the target number as parameters. This function would divide the list of numbers into two halves, compare the target number to the middle number of the list, and then recursively search the half that contains the target number. Finally, I would call the recursive function from the while loop to perform the binary search.\n",
            "Bob:  That's a great explanation, Alice. Can you provide an example of how this code would work with a specific list of numbers and target number?\n",
            "Alice:  Sure, I can provide an example. Let's say the list of numbers is [1, 3, 5, 7, 9] and the target number is 5. The while loop would iterate through the list of numbers and compare each number to the target number. When it reaches the number 5, it would return the index of the number, which is 2. Then, the recursive function would divide the list of numbers into two halves, [1, 3] and [5, 7, 9], and compare the target number to the middle number of the list, which is 5. Since the target number is equal to the middle number, the recursive function would return the index of the number, which is 2. Finally, the recursive function would be called from the while loop to perform the binary search, and the result would be the index of the number 5, which is 2.\n",
            "Bob:  That's a great example, Alice. Can you explain how you would optimize the code to make it more efficient?\n",
            "Alice:  To optimize the code, I would use a binary search tree instead of a loop. A binary search tree is a data structure that stores data in a hierarchical structure, allowing for faster searches. By using a binary search tree, the time complexity of the algorithm would be reduced from O(n) to O(log n). Additionally, I would use a recursive approach to traverse the tree, which would further reduce the time complexity of the algorithm.\n",
            "Bob:  That's a great explanation, Alice. Can you provide an example of how this code would work with a specific list of numbers and target number?\n",
            "Alice:  Sure, I can provide an example. Let's say the list of numbers is [1, 3, 5, 7, 9] and the target number is 5. The binary search tree would be constructed by inserting each number in the list into the tree. Then, the tree would be traversed using a recursive approach to find the target number. When the target number is found, the index of the number would be returned. In this case, the index of the number 5 would be 2.\n",
            "Bob:  Great work, Alice. Can you explain how you would test the code to make sure it works correctly?\n",
            "Alice:  Sure, I can explain how I would test the code. I would start by creating a test suite that contains a set of test cases. Each test case would contain a list of numbers and a target number. I would then run the code on each test case and compare the output of the code to the expected output. If the output of the code matches the expected output, then the code is working correctly. Additionally, I would use a debugger to step through the code and make sure that each line of code is executing correctly.\n",
            "Bob:  That's great, Alice. Can you explain how you would optimize the code to make it more efficient?\n",
            "Alice:  Sure, I can explain how I would optimize the code to make it more efficient. I would start by using a binary search tree instead of a loop. A binary search tree is a data structure that stores data in a hierarchical structure, allowing for faster searches. By using a binary search tree, the time complexity of the algorithm would be reduced from O(n) to O(log n). Additionally, I would use a recursive approach to traverse the tree, which would further reduce the time complexity of the algorithm.\n",
            "Bob:  That's a great approach, Alice. Can you provide an example of how this code would work with a specific list of numbers and target number?\n",
            "Alice:  Sure, I can provide an example. Let's say the list of numbers is [1, 3, 5, 7, 9] and the target number is 5. The binary search tree would be constructed by inserting each number in the list into the tree. Then, the tree would be traversed using a recursive approach to find the target number. When the target number is found, the index of the number would be returned. In this case, the index of the number 5 would be 2.\n",
            "Bob:  That's great, Alice. Can you explain how you would test the code to make sure it works correctly?\n",
            "Alice:  Sure, I can explain how I would test the code. I would start by creating a test suite that contains a set of test cases. Each test case would contain a list of numbers and a target number. I would then run the code on each test case and compare the output of the code to the expected output. If the output of the code matches the expected output, then the code is working correctly. Additionally, I would use a debugger to step through the code and make sure that each line of code is executing correctly.\n",
            "Bob:  That's great, Alice. Can you explain how you would optimize the code to make it more efficient?\n",
            "Alice:  Sure, I can explain how I would optimize the code to make it more efficient. I would start by using a binary search tree instead of a loop. A binary search tree is a data structure that stores data in a hierarchical structure, allowing for faster searches. By using a binary search tree, the time complexity of the algorithm would be reduced from O(n) to O(log n). Additionally, I would use a recursive approach to traverse the tree, which would further reduce the time complexity of the algorithm. I would also look for opportunities to reduce the number of comparisons needed to find the target number, such as using a pre-sorted list or using a hash table to store the data. Finally, I would look for ways to reduce the amount of memory used by the algorithm, such as using a linked list instead of an array.\n",
            "Bob:  That's great, Alice. Can you provide an example of how this code would work with a specific list of numbers and target number?\n",
            "Alice:  Sure, I can provide an example. Let's say the list of numbers is [2, 4, 6, 8, 10] and the target number is 8. The binary search tree would be constructed by inserting each number in the list into the tree. Then, the tree would be traversed using a recursive approach to find the target number. When the target number is found, the index of the number would be returned. In this case, the index of the number 8 would be 3.\n",
            "Bob:  That's great, Alice. Can you explain how you would debug the code if it is not working correctly?\n",
            "Alice:  Sure, I can explain how I would debug the code if it is not working correctly. I would start by using a debugger to step through the code line by line and look for any errors or unexpected behavior. I would also use the test suite to identify any test cases that are not producing the expected output. Additionally, I would use print statements to log the values of variables at different points in the code to help identify any issues. Finally, I would look for any logical errors in the code that could be causing the unexpected behavior.\n",
            "Bob:  That's great, Alice. Can you explain how you would optimize the code to make it more efficient?\n",
            "Alice:  Sure, I can explain how I would optimize the code to make it more efficient. I would start by using a binary search tree instead of a loop. A binary search tree is a data structure that stores data in a hierarchical structure, allowing for faster searches. By using a binary search tree, the time complexity of the algorithm would be reduced from O(n) to O(log n). Additionally, I would use a recursive approach to traverse the tree, which would further reduce the time complexity of the algorithm. I would also look for opportunities to reduce the number of comparisons needed to find the target number, such as using a pre-sorted list or using a hash table to store the data. Finally, I would look for ways to reduce the amount of memory used by the algorithm, such as using a linked list instead of an array.\n",
            "Bob:  That's great, Alice. Can you provide an example of how this code would work with a specific list of numbers and target number?\n",
            "Alice:  Sure, I can provide an example. Let's say the list of numbers is [3, 5, 7, 9, 11] and the target number is 9. The binary search tree would be constructed by inserting each number in the list into the tree. Then, the tree would be traversed using a recursive approach to find the target number. When the target number is found, the index of the number would be returned. In this case, the index of the number 9 would be 3.\n",
            "Bob:  That's great, Alice. Can you explain how you would optimize the code further to make it even more efficient?\n",
            "Alice:  Sure, I can explain how I would optimize the code further to make it even more efficient. I would look for ways to reduce the number of comparisons needed to find the target number, such as using a pre-sorted list or using a hash table to store the data. Additionally, I would look for opportunities to optimize the code by using more efficient algorithms, such as using a divide and conquer approach instead of a linear search. I would also look for ways to optimize the code by using more efficient data structures, such as using a binary search tree instead of a linked list. Finally, I would look for ways to optimize the code by using parallel processing, such as using multiple threads to process the data in parallel.\n",
            "Bob:  That's great, Alice. Can you provide an example of how this code would work with a specific list of numbers and target number?\n",
            "Alice:  Sure, I can provide an example. Let's say the list of numbers is [1, 3, 5, 7, 9] and the target number is 5. The binary search tree would be constructed by inserting each number in the list into the tree. Then, the tree would be traversed using a recursive approach to find the target number. When the target number is found, the index of the number would be returned. In this case, the index of the number 5 would be 2.\n"
          ]
        },
        {
          "name": "stderr",
          "output_type": "stream",
          "text": [
            "\n",
            "KeyboardInterrupt\n",
            "\n"
          ]
        }
      ],
      "source": [
        "run_conversation_loop(\n",
        "    alice,\n",
        "    bob,\n",
        "    \"I'm ready to begin.\",\n",
        "    \"Great, let's start with a simple programming question. \"\n",
        ")"
      ]
    },
    {
      "cell_type": "code",
      "execution_count": null,
      "id": "2d19817f-01c7-4b22-a467-f8144a80ca5d",
      "metadata": {
        "id": "2d19817f-01c7-4b22-a467-f8144a80ca5d"
      },
      "outputs": [],
      "source": []
    }
  ],
  "metadata": {
    "kernelspec": {
      "display_name": "convo_agents",
      "language": "python",
      "name": "convo_agents"
    },
    "language_info": {
      "codemirror_mode": {
        "name": "ipython",
        "version": 3
      },
      "file_extension": ".py",
      "mimetype": "text/x-python",
      "name": "python",
      "nbconvert_exporter": "python",
      "pygments_lexer": "ipython3",
      "version": "3.10.10"
    },
    "colab": {
      "provenance": []
    }
  },
  "nbformat": 4,
  "nbformat_minor": 5
}