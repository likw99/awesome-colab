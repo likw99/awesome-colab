{
  "cells": [
    {
      "cell_type": "markdown",
      "metadata": {
        "id": "view-in-github",
        "colab_type": "text"
      },
      "source": [
        "<a href=\"https://colab.research.google.com/github/likw99/awesome-colab/blob/main/MimicMotion-L4HighRAM.ipynb\" target=\"_parent\"><img src=\"https://colab.research.google.com/assets/colab-badge.svg\" alt=\"Open In Colab\"/></a>"
      ]
    },
    {
      "cell_type": "code",
      "source": [
        "!nvidia-smi"
      ],
      "metadata": {
        "id": "XEY9gZC896To"
      },
      "execution_count": null,
      "outputs": []
    },
    {
      "cell_type": "code",
      "execution_count": null,
      "metadata": {
        "id": "VjYy0F2gZIPR"
      },
      "outputs": [],
      "source": [
        "%cd /content\n",
        "!git clone https://github.com/Tencent/MimicMotion.git\n",
        "%cd /content/MimicMotion"
      ]
    },
    {
      "cell_type": "code",
      "source": [
        "!pip install omegaconf einops diffusers==0.27.0 transformers==4.32.1 decord==0.6.0 matplotlib opencv-python onnx==1.16.1 onnxruntime==1.18.1 accelerate av"
      ],
      "metadata": {
        "id": "5Tn7ejKVo8wO"
      },
      "execution_count": null,
      "outputs": []
    },
    {
      "cell_type": "code",
      "source": [
        "!git clone https://huggingface.co/vdo/stable-video-diffusion-img2vid-xt-1-1 /content/MimicMotion/models/SVD/stable-video-diffusion-img2vid-xt-1-1"
      ],
      "metadata": {
        "id": "TgULfG39o-QJ"
      },
      "execution_count": null,
      "outputs": []
    },
    {
      "cell_type": "code",
      "source": [
        "!wget -P models/ https://huggingface.co/ixaac/MimicMotion/resolve/main/MimicMotion_1-1.pth"
      ],
      "metadata": {
        "id": "8NjDIxlKpPAg"
      },
      "execution_count": null,
      "outputs": []
    },
    {
      "cell_type": "code",
      "source": [
        "!mkdir -p models/DWPose\n",
        "!wget https://huggingface.co/yzd-v/DWPose/resolve/main/yolox_l.onnx?download=true -O models/DWPose/yolox_l.onnx\n",
        "!wget https://huggingface.co/yzd-v/DWPose/resolve/main/dw-ll_ucoco_384.onnx?download=true -O models/DWPose/dw-ll_ucoco_384.onnx"
      ],
      "metadata": {
        "id": "E2I-QRUFpc09"
      },
      "execution_count": null,
      "outputs": []
    },
    {
      "cell_type": "code",
      "source": [
        "!python inference.py --inference_config configs/test.yaml"
      ],
      "metadata": {
        "id": "cP_oJ-BDpDPI"
      },
      "execution_count": null,
      "outputs": []
    }
  ],
  "metadata": {
    "accelerator": "GPU",
    "colab": {
      "gpuType": "L4",
      "provenance": [],
      "machine_shape": "hm",
      "include_colab_link": true
    },
    "kernelspec": {
      "display_name": "Python 3",
      "name": "python3"
    },
    "language_info": {
      "name": "python"
    }
  },
  "nbformat": 4,
  "nbformat_minor": 0
}