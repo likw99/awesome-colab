{
  "nbformat": 4,
  "nbformat_minor": 0,
  "metadata": {
    "colab": {
      "provenance": [],
      "gpuType": "T4",
      "authorship_tag": "ABX9TyMmED3/b91zmz2cbDtyd5d+",
      "include_colab_link": true
    },
    "kernelspec": {
      "name": "python3",
      "display_name": "Python 3"
    },
    "language_info": {
      "name": "python"
    },
    "accelerator": "GPU"
  },
  "cells": [
    {
      "cell_type": "markdown",
      "metadata": {
        "id": "view-in-github",
        "colab_type": "text"
      },
      "source": [
        "<a href=\"https://colab.research.google.com/github/likw99/awesome-colab/blob/main/UniAnimate.ipynb\" target=\"_parent\"><img src=\"https://colab.research.google.com/assets/colab-badge.svg\" alt=\"Open In Colab\"/></a>"
      ]
    },
    {
      "cell_type": "markdown",
      "source": [
        "# TODO:\n",
        "1. The code can run through, but output video is missing, need to check(maybe the ffmpeg).\n",
        "2. Check the infer-long.\n",
        "\n",
        "## Source\n",
        "https://github.com/ali-vilab/UniAnimate"
      ],
      "metadata": {
        "id": "nhlvdKeh42KI"
      }
    },
    {
      "cell_type": "code",
      "source": [
        "!pip install -q condacolab\n",
        "# Setting up condacolab and installing packages\n",
        "import condacolab\n",
        "condacolab.install_from_url(\"https://repo.anaconda.com/miniconda/Miniconda3-py39_23.11.0-2-Linux-x86_64.sh\")\n",
        "%cd -q /content\n",
        "!git clone https://github.com/ali-vilab/UniAnimate.git\n",
        "!conda install -y -q pytorch==2.0.1 torchvision==0.15.2 torchaudio==2.0.2 pytorch-cuda=11.8 -c pytorch -c nvidia\n",
        "%cd -q /content/UniAnimate\n",
        "!/usr/local/bin/pip install -r requirements.txt"
      ],
      "metadata": {
        "colab": {
          "base_uri": "https://localhost:8080/"
        },
        "id": "EQrbbErJ3Bby",
        "outputId": "edee9041-f23c-4ab2-faa7-4ea8b16bcc49"
      },
      "execution_count": null,
      "outputs": [
        {
          "output_type": "stream",
          "name": "stdout",
          "text": [
            "/bin/bash: /usr/local/lib/libtinfo.so.6: no version information available (required by /bin/bash)\n",
            "\u001b[33mWARNING: Running pip as the 'root' user can result in broken permissions and conflicting behaviour with the system package manager. It is recommended to use a virtual environment instead: https://pip.pypa.io/warnings/venv\u001b[0m\u001b[33m\n",
            "\u001b[0m✨🍰✨ Everything looks OK!\n",
            "/bin/bash: /usr/local/lib/libtinfo.so.6: no version information available (required by /bin/bash)\n",
            "fatal: destination path 'UniAnimate' already exists and is not an empty directory.\n",
            "/bin/bash: /usr/local/lib/libtinfo.so.6: no version information available (required by /bin/bash)\n",
            "Channels:\n",
            " - pytorch\n",
            " - nvidia\n",
            " - defaults\n",
            "Platform: linux-64\n",
            "Collecting package metadata (repodata.json): ...working... done\n",
            "Solving environment: ...working... done\n",
            "\n",
            "# All requested packages already installed.\n",
            "\n",
            "/bin/bash: /usr/local/lib/libtinfo.so.6: no version information available (required by /bin/bash)\n",
            "Requirement already satisfied: aiofiles==23.2.1 in /usr/local/lib/python3.9/site-packages (from -r requirements.txt (line 1)) (23.2.1)\n",
            "Requirement already satisfied: aiohttp==3.9.1 in /usr/local/lib/python3.9/site-packages (from -r requirements.txt (line 2)) (3.9.1)\n",
            "Requirement already satisfied: aiosignal==1.3.1 in /usr/local/lib/python3.9/site-packages (from -r requirements.txt (line 3)) (1.3.1)\n",
            "Requirement already satisfied: aliyun-python-sdk-core==2.14.0 in /usr/local/lib/python3.9/site-packages (from -r requirements.txt (line 4)) (2.14.0)\n",
            "Requirement already satisfied: aliyun-python-sdk-kms==2.16.2 in /usr/local/lib/python3.9/site-packages (from -r requirements.txt (line 5)) (2.16.2)\n",
            "Requirement already satisfied: altair==5.2.0 in /usr/local/lib/python3.9/site-packages (from -r requirements.txt (line 6)) (5.2.0)\n",
            "Requirement already satisfied: annotated-types==0.6.0 in /usr/local/lib/python3.9/site-packages (from -r requirements.txt (line 7)) (0.6.0)\n",
            "Requirement already satisfied: antlr4-python3-runtime==4.9.3 in /usr/local/lib/python3.9/site-packages (from -r requirements.txt (line 8)) (4.9.3)\n",
            "Requirement already satisfied: anyio==4.2.0 in /usr/local/lib/python3.9/site-packages (from -r requirements.txt (line 9)) (4.2.0)\n",
            "Requirement already satisfied: asttokens==2.4.1 in /usr/local/lib/python3.9/site-packages (from -r requirements.txt (line 10)) (2.4.1)\n",
            "Requirement already satisfied: async-timeout==4.0.3 in /usr/local/lib/python3.9/site-packages (from -r requirements.txt (line 11)) (4.0.3)\n",
            "Requirement already satisfied: attrs==23.2.0 in /usr/local/lib/python3.9/site-packages (from -r requirements.txt (line 12)) (23.2.0)\n",
            "Requirement already satisfied: Automat==22.10.0 in /usr/local/lib/python3.9/site-packages (from -r requirements.txt (line 13)) (22.10.0)\n",
            "Requirement already satisfied: beartype==0.16.4 in /usr/local/lib/python3.9/site-packages (from -r requirements.txt (line 14)) (0.16.4)\n",
            "Requirement already satisfied: blessed==1.20.0 in /usr/local/lib/python3.9/site-packages (from -r requirements.txt (line 15)) (1.20.0)\n",
            "Requirement already satisfied: buildtools==1.0.6 in /usr/local/lib/python3.9/site-packages (from -r requirements.txt (line 16)) (1.0.6)\n",
            "Requirement already satisfied: certifi==2023.11.17 in /usr/local/lib/python3.9/site-packages (from -r requirements.txt (line 18)) (2023.11.17)\n",
            "Requirement already satisfied: cffi==1.16.0 in /usr/local/lib/python3.9/site-packages (from -r requirements.txt (line 19)) (1.16.0)\n",
            "Requirement already satisfied: chardet==5.2.0 in /usr/local/lib/python3.9/site-packages (from -r requirements.txt (line 20)) (5.2.0)\n",
            "Requirement already satisfied: charset-normalizer==3.3.2 in /usr/local/lib/python3.9/site-packages (from -r requirements.txt (line 21)) (3.3.2)\n",
            "Requirement already satisfied: clean-fid==0.1.35 in /usr/local/lib/python3.9/site-packages (from -r requirements.txt (line 22)) (0.1.35)\n",
            "Requirement already satisfied: click==8.1.7 in /usr/local/lib/python3.9/site-packages (from -r requirements.txt (line 23)) (8.1.7)\n",
            "Requirement already satisfied: cmake==3.28.1 in /usr/local/lib/python3.9/site-packages (from -r requirements.txt (line 25)) (3.28.1)\n",
            "Requirement already satisfied: colorama==0.4.6 in /usr/local/lib/python3.9/site-packages (from -r requirements.txt (line 26)) (0.4.6)\n",
            "Requirement already satisfied: coloredlogs==15.0.1 in /usr/local/lib/python3.9/site-packages (from -r requirements.txt (line 27)) (15.0.1)\n",
            "Requirement already satisfied: constantly==23.10.4 in /usr/local/lib/python3.9/site-packages (from -r requirements.txt (line 28)) (23.10.4)\n",
            "Requirement already satisfied: contourpy==1.2.0 in /usr/local/lib/python3.9/site-packages (from -r requirements.txt (line 29)) (1.2.0)\n",
            "Requirement already satisfied: crcmod==1.7 in /usr/local/lib/python3.9/site-packages (from -r requirements.txt (line 30)) (1.7)\n",
            "Requirement already satisfied: cryptography==41.0.7 in /usr/local/lib/python3.9/site-packages (from -r requirements.txt (line 31)) (41.0.7)\n",
            "Requirement already satisfied: cycler==0.12.1 in /usr/local/lib/python3.9/site-packages (from -r requirements.txt (line 32)) (0.12.1)\n",
            "Requirement already satisfied: decorator==5.1.1 in /usr/local/lib/python3.9/site-packages (from -r requirements.txt (line 33)) (5.1.1)\n",
            "Requirement already satisfied: decord==0.6.0 in /usr/local/lib/python3.9/site-packages (from -r requirements.txt (line 34)) (0.6.0)\n",
            "Requirement already satisfied: diffusers==0.26.3 in /usr/local/lib/python3.9/site-packages (from -r requirements.txt (line 35)) (0.26.3)\n",
            "Requirement already satisfied: docopt==0.6.2 in /usr/local/lib/python3.9/site-packages (from -r requirements.txt (line 36)) (0.6.2)\n",
            "Requirement already satisfied: easydict==1.11 in /usr/local/lib/python3.9/site-packages (from -r requirements.txt (line 37)) (1.11)\n",
            "Requirement already satisfied: einops==0.7.0 in /usr/local/lib/python3.9/site-packages (from -r requirements.txt (line 38)) (0.7.0)\n",
            "Requirement already satisfied: exceptiongroup==1.2.0 in /usr/local/lib/python3.9/site-packages (from -r requirements.txt (line 39)) (1.2.0)\n",
            "Requirement already satisfied: executing==2.0.1 in /usr/local/lib/python3.9/site-packages (from -r requirements.txt (line 40)) (2.0.1)\n",
            "Requirement already satisfied: fairscale==0.4.13 in /usr/local/lib/python3.9/site-packages (from -r requirements.txt (line 41)) (0.4.13)\n",
            "Requirement already satisfied: fastapi==0.109.0 in /usr/local/lib/python3.9/site-packages (from -r requirements.txt (line 42)) (0.109.0)\n",
            "Requirement already satisfied: ffmpeg==1.4 in /usr/local/lib/python3.9/site-packages (from -r requirements.txt (line 43)) (1.4)\n",
            "Requirement already satisfied: ffmpy==0.3.1 in /usr/local/lib/python3.9/site-packages (from -r requirements.txt (line 44)) (0.3.1)\n",
            "Requirement already satisfied: filelock==3.13.1 in /usr/local/lib/python3.9/site-packages (from -r requirements.txt (line 45)) (3.13.1)\n",
            "Requirement already satisfied: flatbuffers==24.3.25 in /usr/local/lib/python3.9/site-packages (from -r requirements.txt (line 46)) (24.3.25)\n",
            "Requirement already satisfied: fonttools==4.47.2 in /usr/local/lib/python3.9/site-packages (from -r requirements.txt (line 47)) (4.47.2)\n",
            "Requirement already satisfied: frozenlist==1.4.1 in /usr/local/lib/python3.9/site-packages (from -r requirements.txt (line 48)) (1.4.1)\n",
            "Requirement already satisfied: fsspec==2023.12.2 in /usr/local/lib/python3.9/site-packages (from -r requirements.txt (line 49)) (2023.12.2)\n",
            "Requirement already satisfied: ftfy==6.1.3 in /usr/local/lib/python3.9/site-packages (from -r requirements.txt (line 50)) (6.1.3)\n",
            "Requirement already satisfied: furl==2.1.3 in /usr/local/lib/python3.9/site-packages (from -r requirements.txt (line 51)) (2.1.3)\n",
            "Requirement already satisfied: gpustat==1.1.1 in /usr/local/lib/python3.9/site-packages (from -r requirements.txt (line 52)) (1.1.1)\n",
            "Requirement already satisfied: gradio==4.14.0 in /usr/local/lib/python3.9/site-packages (from -r requirements.txt (line 53)) (4.14.0)\n",
            "Requirement already satisfied: gradio_client==0.8.0 in /usr/local/lib/python3.9/site-packages (from -r requirements.txt (line 54)) (0.8.0)\n",
            "Requirement already satisfied: greenlet==3.0.3 in /usr/local/lib/python3.9/site-packages (from -r requirements.txt (line 55)) (3.0.3)\n",
            "Requirement already satisfied: h11==0.14.0 in /usr/local/lib/python3.9/site-packages (from -r requirements.txt (line 56)) (0.14.0)\n",
            "Requirement already satisfied: httpcore==1.0.2 in /usr/local/lib/python3.9/site-packages (from -r requirements.txt (line 57)) (1.0.2)\n",
            "Requirement already satisfied: httpx==0.26.0 in /usr/local/lib/python3.9/site-packages (from -r requirements.txt (line 58)) (0.26.0)\n",
            "Requirement already satisfied: huggingface-hub==0.20.2 in /usr/local/lib/python3.9/site-packages (from -r requirements.txt (line 59)) (0.20.2)\n",
            "Requirement already satisfied: humanfriendly==10.0 in /usr/local/lib/python3.9/site-packages (from -r requirements.txt (line 60)) (10.0)\n",
            "Requirement already satisfied: hyperlink==21.0.0 in /usr/local/lib/python3.9/site-packages (from -r requirements.txt (line 61)) (21.0.0)\n",
            "Requirement already satisfied: idna==3.6 in /usr/local/lib/python3.9/site-packages (from -r requirements.txt (line 62)) (3.6)\n",
            "Requirement already satisfied: imageio==2.33.1 in /usr/local/lib/python3.9/site-packages (from -r requirements.txt (line 63)) (2.33.1)\n",
            "Requirement already satisfied: imageio-ffmpeg==0.4.9 in /usr/local/lib/python3.9/site-packages (from -r requirements.txt (line 64)) (0.4.9)\n",
            "Requirement already satisfied: importlib-metadata==7.0.1 in /usr/local/lib/python3.9/site-packages (from -r requirements.txt (line 65)) (7.0.1)\n",
            "Requirement already satisfied: importlib-resources==6.1.1 in /usr/local/lib/python3.9/site-packages (from -r requirements.txt (line 66)) (6.1.1)\n",
            "Requirement already satisfied: incremental==22.10.0 in /usr/local/lib/python3.9/site-packages (from -r requirements.txt (line 67)) (22.10.0)\n",
            "Requirement already satisfied: ipdb==0.13.13 in /usr/local/lib/python3.9/site-packages (from -r requirements.txt (line 68)) (0.13.13)\n",
            "Requirement already satisfied: ipython==8.18.1 in /usr/local/lib/python3.9/site-packages (from -r requirements.txt (line 69)) (8.18.1)\n",
            "Requirement already satisfied: jedi==0.19.1 in /usr/local/lib/python3.9/site-packages (from -r requirements.txt (line 70)) (0.19.1)\n",
            "Requirement already satisfied: Jinja2==3.1.3 in /usr/local/lib/python3.9/site-packages (from -r requirements.txt (line 71)) (3.1.3)\n",
            "Requirement already satisfied: jmespath==0.10.0 in /usr/local/lib/python3.9/site-packages (from -r requirements.txt (line 72)) (0.10.0)\n",
            "Requirement already satisfied: joblib==1.3.2 in /usr/local/lib/python3.9/site-packages (from -r requirements.txt (line 73)) (1.3.2)\n",
            "Requirement already satisfied: jsonschema==4.21.0 in /usr/local/lib/python3.9/site-packages (from -r requirements.txt (line 74)) (4.21.0)\n",
            "Requirement already satisfied: jsonschema-specifications==2023.12.1 in /usr/local/lib/python3.9/site-packages (from -r requirements.txt (line 75)) (2023.12.1)\n",
            "Requirement already satisfied: kiwisolver==1.4.5 in /usr/local/lib/python3.9/site-packages (from -r requirements.txt (line 76)) (1.4.5)\n",
            "Requirement already satisfied: kornia==0.7.1 in /usr/local/lib/python3.9/site-packages (from -r requirements.txt (line 77)) (0.7.1)\n",
            "Requirement already satisfied: lazy_loader==0.3 in /usr/local/lib/python3.9/site-packages (from -r requirements.txt (line 78)) (0.3)\n",
            "Requirement already satisfied: lightning-utilities==0.10.0 in /usr/local/lib/python3.9/site-packages (from -r requirements.txt (line 79)) (0.10.0)\n",
            "Requirement already satisfied: lit==17.0.6 in /usr/local/lib/python3.9/site-packages (from -r requirements.txt (line 80)) (17.0.6)\n",
            "Requirement already satisfied: lpips==0.1.4 in /usr/local/lib/python3.9/site-packages (from -r requirements.txt (line 81)) (0.1.4)\n",
            "Requirement already satisfied: markdown-it-py==3.0.0 in /usr/local/lib/python3.9/site-packages (from -r requirements.txt (line 82)) (3.0.0)\n",
            "Requirement already satisfied: MarkupSafe==2.1.3 in /usr/local/lib/python3.9/site-packages (from -r requirements.txt (line 83)) (2.1.3)\n",
            "Requirement already satisfied: matplotlib==3.8.2 in /usr/local/lib/python3.9/site-packages (from -r requirements.txt (line 84)) (3.8.2)\n",
            "Requirement already satisfied: matplotlib-inline==0.1.6 in /usr/local/lib/python3.9/site-packages (from -r requirements.txt (line 85)) (0.1.6)\n",
            "Requirement already satisfied: mdurl==0.1.2 in /usr/local/lib/python3.9/site-packages (from -r requirements.txt (line 86)) (0.1.2)\n",
            "Requirement already satisfied: mpmath==1.3.0 in /usr/local/lib/python3.9/site-packages (from -r requirements.txt (line 88)) (1.3.0)\n",
            "Requirement already satisfied: multidict==6.0.4 in /usr/local/lib/python3.9/site-packages (from -r requirements.txt (line 89)) (6.0.4)\n",
            "Requirement already satisfied: mypy-extensions==1.0.0 in /usr/local/lib/python3.9/site-packages (from -r requirements.txt (line 90)) (1.0.0)\n",
            "Requirement already satisfied: networkx==3.2.1 in /usr/local/lib/python3.9/site-packages (from -r requirements.txt (line 91)) (3.2.1)\n",
            "Requirement already satisfied: ninja==1.11.1.1 in /usr/local/lib/python3.9/site-packages (from -r requirements.txt (line 92)) (1.11.1.1)\n",
            "Requirement already satisfied: numpy==1.26.3 in /usr/local/lib/python3.9/site-packages (from -r requirements.txt (line 93)) (1.26.3)\n",
            "Requirement already satisfied: nvidia-cublas-cu11==11.10.3.66 in /usr/local/lib/python3.9/site-packages (from -r requirements.txt (line 94)) (11.10.3.66)\n",
            "Requirement already satisfied: nvidia-cublas-cu12==12.1.3.1 in /usr/local/lib/python3.9/site-packages (from -r requirements.txt (line 95)) (12.1.3.1)\n",
            "Requirement already satisfied: nvidia-cuda-cupti-cu11==11.7.101 in /usr/local/lib/python3.9/site-packages (from -r requirements.txt (line 96)) (11.7.101)\n",
            "Requirement already satisfied: nvidia-cuda-cupti-cu12==12.1.105 in /usr/local/lib/python3.9/site-packages (from -r requirements.txt (line 97)) (12.1.105)\n",
            "Requirement already satisfied: nvidia-cuda-nvrtc-cu11==11.7.99 in /usr/local/lib/python3.9/site-packages (from -r requirements.txt (line 98)) (11.7.99)\n",
            "Requirement already satisfied: nvidia-cuda-nvrtc-cu12==12.1.105 in /usr/local/lib/python3.9/site-packages (from -r requirements.txt (line 99)) (12.1.105)\n",
            "Requirement already satisfied: nvidia-cuda-runtime-cu11==11.7.99 in /usr/local/lib/python3.9/site-packages (from -r requirements.txt (line 100)) (11.7.99)\n",
            "Requirement already satisfied: nvidia-cuda-runtime-cu12==12.1.105 in /usr/local/lib/python3.9/site-packages (from -r requirements.txt (line 101)) (12.1.105)\n",
            "Requirement already satisfied: nvidia-cudnn-cu11==8.5.0.96 in /usr/local/lib/python3.9/site-packages (from -r requirements.txt (line 102)) (8.5.0.96)\n",
            "Requirement already satisfied: nvidia-cudnn-cu12==8.9.2.26 in /usr/local/lib/python3.9/site-packages (from -r requirements.txt (line 103)) (8.9.2.26)\n",
            "Requirement already satisfied: nvidia-cufft-cu11==10.9.0.58 in /usr/local/lib/python3.9/site-packages (from -r requirements.txt (line 104)) (10.9.0.58)\n",
            "Requirement already satisfied: nvidia-cufft-cu12==11.0.2.54 in /usr/local/lib/python3.9/site-packages (from -r requirements.txt (line 105)) (11.0.2.54)\n",
            "Requirement already satisfied: nvidia-curand-cu11==10.2.10.91 in /usr/local/lib/python3.9/site-packages (from -r requirements.txt (line 106)) (10.2.10.91)\n",
            "Requirement already satisfied: nvidia-curand-cu12==10.3.2.106 in /usr/local/lib/python3.9/site-packages (from -r requirements.txt (line 107)) (10.3.2.106)\n",
            "Requirement already satisfied: nvidia-cusolver-cu11==11.4.0.1 in /usr/local/lib/python3.9/site-packages (from -r requirements.txt (line 108)) (11.4.0.1)\n",
            "Requirement already satisfied: nvidia-cusolver-cu12==11.4.5.107 in /usr/local/lib/python3.9/site-packages (from -r requirements.txt (line 109)) (11.4.5.107)\n",
            "Requirement already satisfied: nvidia-cusparse-cu11==11.7.4.91 in /usr/local/lib/python3.9/site-packages (from -r requirements.txt (line 110)) (11.7.4.91)\n",
            "Requirement already satisfied: nvidia-cusparse-cu12==12.1.0.106 in /usr/local/lib/python3.9/site-packages (from -r requirements.txt (line 111)) (12.1.0.106)\n",
            "Requirement already satisfied: nvidia-ml-py==12.535.133 in /usr/local/lib/python3.9/site-packages (from -r requirements.txt (line 112)) (12.535.133)\n",
            "Requirement already satisfied: nvidia-nccl-cu11==2.14.3 in /usr/local/lib/python3.9/site-packages (from -r requirements.txt (line 113)) (2.14.3)\n",
            "Requirement already satisfied: nvidia-nccl-cu12==2.19.3 in /usr/local/lib/python3.9/site-packages (from -r requirements.txt (line 114)) (2.19.3)\n",
            "Requirement already satisfied: nvidia-nvjitlink-cu12==12.3.101 in /usr/local/lib/python3.9/site-packages (from -r requirements.txt (line 115)) (12.3.101)\n",
            "Requirement already satisfied: nvidia-nvtx-cu11==11.7.91 in /usr/local/lib/python3.9/site-packages (from -r requirements.txt (line 116)) (11.7.91)\n",
            "Requirement already satisfied: nvidia-nvtx-cu12==12.1.105 in /usr/local/lib/python3.9/site-packages (from -r requirements.txt (line 117)) (12.1.105)\n",
            "Requirement already satisfied: omegaconf==2.3.0 in /usr/local/lib/python3.9/site-packages (from -r requirements.txt (line 118)) (2.3.0)\n",
            "Requirement already satisfied: onnxruntime==1.18.0 in /usr/local/lib/python3.9/site-packages (from -r requirements.txt (line 119)) (1.18.0)\n",
            "Requirement already satisfied: open-clip-torch==2.24.0 in /usr/local/lib/python3.9/site-packages (from -r requirements.txt (line 120)) (2.24.0)\n",
            "Requirement already satisfied: opencv-python==4.5.3.56 in /usr/local/lib/python3.9/site-packages (from -r requirements.txt (line 121)) (4.5.3.56)\n",
            "Requirement already satisfied: opencv-python-headless==4.9.0.80 in /usr/local/lib/python3.9/site-packages (from -r requirements.txt (line 122)) (4.9.0.80)\n",
            "Requirement already satisfied: orderedmultidict==1.0.1 in /usr/local/lib/python3.9/site-packages (from -r requirements.txt (line 123)) (1.0.1)\n",
            "Requirement already satisfied: orjson==3.9.10 in /usr/local/lib/python3.9/site-packages (from -r requirements.txt (line 124)) (3.9.10)\n",
            "Requirement already satisfied: oss2==2.18.4 in /usr/local/lib/python3.9/site-packages (from -r requirements.txt (line 125)) (2.18.4)\n",
            "Requirement already satisfied: pandas==2.1.4 in /usr/local/lib/python3.9/site-packages (from -r requirements.txt (line 127)) (2.1.4)\n",
            "Requirement already satisfied: parso==0.8.3 in /usr/local/lib/python3.9/site-packages (from -r requirements.txt (line 128)) (0.8.3)\n",
            "Requirement already satisfied: pexpect==4.9.0 in /usr/local/lib/python3.9/site-packages (from -r requirements.txt (line 129)) (4.9.0)\n",
            "Requirement already satisfied: pillow==10.2.0 in /usr/local/lib/python3.9/site-packages (from -r requirements.txt (line 130)) (10.2.0)\n",
            "Requirement already satisfied: piq==0.8.0 in /usr/local/lib/python3.9/site-packages (from -r requirements.txt (line 131)) (0.8.0)\n",
            "Requirement already satisfied: pkgconfig==1.5.5 in /usr/local/lib/python3.9/site-packages (from -r requirements.txt (line 132)) (1.5.5)\n",
            "Requirement already satisfied: prompt-toolkit==3.0.43 in /usr/local/lib/python3.9/site-packages (from -r requirements.txt (line 133)) (3.0.43)\n",
            "Requirement already satisfied: protobuf==4.25.2 in /usr/local/lib/python3.9/site-packages (from -r requirements.txt (line 134)) (4.25.2)\n",
            "Requirement already satisfied: psutil==5.9.8 in /usr/local/lib/python3.9/site-packages (from -r requirements.txt (line 135)) (5.9.8)\n",
            "Requirement already satisfied: ptflops==0.7.2.2 in /usr/local/lib/python3.9/site-packages (from -r requirements.txt (line 136)) (0.7.2.2)\n",
            "Requirement already satisfied: ptyprocess==0.7.0 in /usr/local/lib/python3.9/site-packages (from -r requirements.txt (line 137)) (0.7.0)\n",
            "Requirement already satisfied: pure-eval==0.2.2 in /usr/local/lib/python3.9/site-packages (from -r requirements.txt (line 138)) (0.2.2)\n",
            "Requirement already satisfied: pycparser==2.21 in /usr/local/lib/python3.9/site-packages (from -r requirements.txt (line 139)) (2.21)\n",
            "Requirement already satisfied: pycryptodome==3.20.0 in /usr/local/lib/python3.9/site-packages (from -r requirements.txt (line 140)) (3.20.0)\n",
            "Requirement already satisfied: pydantic==2.5.3 in /usr/local/lib/python3.9/site-packages (from -r requirements.txt (line 141)) (2.5.3)\n",
            "Requirement already satisfied: pydantic_core==2.14.6 in /usr/local/lib/python3.9/site-packages (from -r requirements.txt (line 142)) (2.14.6)\n",
            "Requirement already satisfied: pydub==0.25.1 in /usr/local/lib/python3.9/site-packages (from -r requirements.txt (line 143)) (0.25.1)\n",
            "Requirement already satisfied: Pygments==2.17.2 in /usr/local/lib/python3.9/site-packages (from -r requirements.txt (line 144)) (2.17.2)\n",
            "Requirement already satisfied: pynvml==11.5.0 in /usr/local/lib/python3.9/site-packages (from -r requirements.txt (line 145)) (11.5.0)\n",
            "Requirement already satisfied: pyparsing==3.1.1 in /usr/local/lib/python3.9/site-packages (from -r requirements.txt (line 146)) (3.1.1)\n",
            "Requirement already satisfied: pyre-extensions==0.0.29 in /usr/local/lib/python3.9/site-packages (from -r requirements.txt (line 147)) (0.0.29)\n",
            "Requirement already satisfied: python-dateutil==2.8.2 in /usr/local/lib/python3.9/site-packages (from -r requirements.txt (line 148)) (2.8.2)\n",
            "Requirement already satisfied: python-multipart==0.0.6 in /usr/local/lib/python3.9/site-packages (from -r requirements.txt (line 149)) (0.0.6)\n",
            "Requirement already satisfied: pytorch-lightning==2.1.3 in /usr/local/lib/python3.9/site-packages (from -r requirements.txt (line 150)) (2.1.3)\n",
            "Requirement already satisfied: pytz==2023.3.post1 in /usr/local/lib/python3.9/site-packages (from -r requirements.txt (line 151)) (2023.3.post1)\n",
            "Requirement already satisfied: PyYAML==6.0.1 in /usr/local/lib/python3.9/site-packages (from -r requirements.txt (line 152)) (6.0.1)\n",
            "Requirement already satisfied: redo==2.0.4 in /usr/local/lib/python3.9/site-packages (from -r requirements.txt (line 153)) (2.0.4)\n",
            "Requirement already satisfied: referencing==0.32.1 in /usr/local/lib/python3.9/site-packages (from -r requirements.txt (line 154)) (0.32.1)\n",
            "Requirement already satisfied: regex==2023.12.25 in /usr/local/lib/python3.9/site-packages (from -r requirements.txt (line 155)) (2023.12.25)\n",
            "Requirement already satisfied: requests==2.31.0 in /usr/local/lib/python3.9/site-packages (from -r requirements.txt (line 156)) (2.31.0)\n",
            "Requirement already satisfied: rich==13.7.0 in /usr/local/lib/python3.9/site-packages (from -r requirements.txt (line 157)) (13.7.0)\n",
            "Requirement already satisfied: rotary-embedding-torch==0.5.3 in /usr/local/lib/python3.9/site-packages (from -r requirements.txt (line 158)) (0.5.3)\n",
            "Requirement already satisfied: rpds-py==0.17.1 in /usr/local/lib/python3.9/site-packages (from -r requirements.txt (line 159)) (0.17.1)\n",
            "Requirement already satisfied: ruff==0.2.0 in /usr/local/lib/python3.9/site-packages (from -r requirements.txt (line 160)) (0.2.0)\n",
            "Requirement already satisfied: safetensors==0.4.1 in /usr/local/lib/python3.9/site-packages (from -r requirements.txt (line 161)) (0.4.1)\n",
            "Requirement already satisfied: scikit-image==0.22.0 in /usr/local/lib/python3.9/site-packages (from -r requirements.txt (line 162)) (0.22.0)\n",
            "Requirement already satisfied: scikit-learn==1.4.0 in /usr/local/lib/python3.9/site-packages (from -r requirements.txt (line 163)) (1.4.0)\n",
            "Requirement already satisfied: scipy==1.11.4 in /usr/local/lib/python3.9/site-packages (from -r requirements.txt (line 164)) (1.11.4)\n",
            "Requirement already satisfied: semantic-version==2.10.0 in /usr/local/lib/python3.9/site-packages (from -r requirements.txt (line 165)) (2.10.0)\n",
            "Requirement already satisfied: sentencepiece==0.1.99 in /usr/local/lib/python3.9/site-packages (from -r requirements.txt (line 166)) (0.1.99)\n",
            "Requirement already satisfied: shellingham==1.5.4 in /usr/local/lib/python3.9/site-packages (from -r requirements.txt (line 167)) (1.5.4)\n",
            "Requirement already satisfied: simplejson==3.19.2 in /usr/local/lib/python3.9/site-packages (from -r requirements.txt (line 168)) (3.19.2)\n",
            "Requirement already satisfied: six==1.16.0 in /usr/local/lib/python3.9/site-packages (from -r requirements.txt (line 169)) (1.16.0)\n",
            "Requirement already satisfied: sk-video==1.1.10 in /usr/local/lib/python3.9/site-packages (from -r requirements.txt (line 170)) (1.1.10)\n",
            "Requirement already satisfied: sniffio==1.3.0 in /usr/local/lib/python3.9/site-packages (from -r requirements.txt (line 171)) (1.3.0)\n",
            "Requirement already satisfied: SQLAlchemy==2.0.27 in /usr/local/lib/python3.9/site-packages (from -r requirements.txt (line 172)) (2.0.27)\n",
            "Requirement already satisfied: stack-data==0.6.3 in /usr/local/lib/python3.9/site-packages (from -r requirements.txt (line 173)) (0.6.3)\n",
            "Requirement already satisfied: starlette==0.35.1 in /usr/local/lib/python3.9/site-packages (from -r requirements.txt (line 174)) (0.35.1)\n",
            "Requirement already satisfied: sympy==1.12 in /usr/local/lib/python3.9/site-packages (from -r requirements.txt (line 175)) (1.12)\n",
            "Requirement already satisfied: thop==0.1.1.post2209072238 in /usr/local/lib/python3.9/site-packages (from -r requirements.txt (line 176)) (0.1.1.post2209072238)\n",
            "Requirement already satisfied: threadpoolctl==3.2.0 in /usr/local/lib/python3.9/site-packages (from -r requirements.txt (line 177)) (3.2.0)\n",
            "Requirement already satisfied: tifffile==2023.12.9 in /usr/local/lib/python3.9/site-packages (from -r requirements.txt (line 178)) (2023.12.9)\n",
            "Requirement already satisfied: timm==0.9.12 in /usr/local/lib/python3.9/site-packages (from -r requirements.txt (line 179)) (0.9.12)\n",
            "Requirement already satisfied: tokenizers==0.15.0 in /usr/local/lib/python3.9/site-packages (from -r requirements.txt (line 180)) (0.15.0)\n",
            "Requirement already satisfied: tomli==2.0.1 in /usr/local/lib/python3.9/site-packages (from -r requirements.txt (line 181)) (2.0.1)\n",
            "Requirement already satisfied: tomlkit==0.12.0 in /usr/local/lib/python3.9/site-packages (from -r requirements.txt (line 182)) (0.12.0)\n",
            "Requirement already satisfied: toolz==0.12.0 in /usr/local/lib/python3.9/site-packages (from -r requirements.txt (line 183)) (0.12.0)\n",
            "Requirement already satisfied: torchdiffeq==0.2.3 in /usr/local/lib/python3.9/site-packages (from -r requirements.txt (line 186)) (0.2.3)\n",
            "Requirement already satisfied: torchmetrics==1.3.0.post0 in /usr/local/lib/python3.9/site-packages (from -r requirements.txt (line 187)) (1.3.0.post0)\n",
            "Requirement already satisfied: torchsde==0.2.6 in /usr/local/lib/python3.9/site-packages (from -r requirements.txt (line 188)) (0.2.6)\n",
            "Requirement already satisfied: tqdm==4.66.1 in /usr/local/lib/python3.9/site-packages (from -r requirements.txt (line 190)) (4.66.1)\n",
            "Requirement already satisfied: traitlets==5.14.1 in /usr/local/lib/python3.9/site-packages (from -r requirements.txt (line 191)) (5.14.1)\n",
            "Requirement already satisfied: trampoline==0.1.2 in /usr/local/lib/python3.9/site-packages (from -r requirements.txt (line 192)) (0.1.2)\n",
            "Requirement already satisfied: transformers==4.36.2 in /usr/local/lib/python3.9/site-packages (from -r requirements.txt (line 193)) (4.36.2)\n",
            "Requirement already satisfied: triton==2.0.0 in /usr/local/lib/python3.9/site-packages (from -r requirements.txt (line 194)) (2.0.0)\n",
            "Requirement already satisfied: Twisted==23.10.0 in /usr/local/lib/python3.9/site-packages (from -r requirements.txt (line 195)) (23.10.0)\n",
            "Requirement already satisfied: typer==0.9.0 in /usr/local/lib/python3.9/site-packages (from -r requirements.txt (line 196)) (0.9.0)\n",
            "Requirement already satisfied: typing-inspect==0.9.0 in /usr/local/lib/python3.9/site-packages (from -r requirements.txt (line 197)) (0.9.0)\n",
            "Requirement already satisfied: typing_extensions==4.9.0 in /usr/local/lib/python3.9/site-packages (from -r requirements.txt (line 198)) (4.9.0)\n",
            "Requirement already satisfied: tzdata==2023.4 in /usr/local/lib/python3.9/site-packages (from -r requirements.txt (line 199)) (2023.4)\n",
            "Requirement already satisfied: urllib3==2.1.0 in /usr/local/lib/python3.9/site-packages (from -r requirements.txt (line 200)) (2.1.0)\n",
            "Requirement already satisfied: uvicorn==0.26.0 in /usr/local/lib/python3.9/site-packages (from -r requirements.txt (line 201)) (0.26.0)\n",
            "Requirement already satisfied: wcwidth==0.2.13 in /usr/local/lib/python3.9/site-packages (from -r requirements.txt (line 202)) (0.2.13)\n",
            "Requirement already satisfied: websockets==11.0.3 in /usr/local/lib/python3.9/site-packages (from -r requirements.txt (line 203)) (11.0.3)\n",
            "Requirement already satisfied: xformers==0.0.20 in /usr/local/lib/python3.9/site-packages (from -r requirements.txt (line 204)) (0.0.20)\n",
            "Requirement already satisfied: yarl==1.9.4 in /usr/local/lib/python3.9/site-packages (from -r requirements.txt (line 205)) (1.9.4)\n",
            "Requirement already satisfied: zipp==3.17.0 in /usr/local/lib/python3.9/site-packages (from -r requirements.txt (line 206)) (3.17.0)\n",
            "Requirement already satisfied: zope.interface==6.2 in /usr/local/lib/python3.9/site-packages (from -r requirements.txt (line 207)) (6.2)\n",
            "Requirement already satisfied: onnxruntime-gpu==1.13.1 in /usr/local/lib/python3.9/site-packages (from -r requirements.txt (line 208)) (1.13.1)\n",
            "Requirement already satisfied: packaging in /usr/local/lib/python3.9/site-packages (from altair==5.2.0->-r requirements.txt (line 6)) (23.1)\n",
            "Collecting argparse (from buildtools==1.0.6->-r requirements.txt (line 16))\n",
            "  Using cached argparse-1.4.0-py2.py3-none-any.whl.metadata (2.8 kB)\n",
            "Requirement already satisfied: torch in /usr/local/lib/python3.9/site-packages (from clean-fid==0.1.35->-r requirements.txt (line 22)) (2.0.1)\n",
            "Requirement already satisfied: torchvision in /usr/local/lib/python3.9/site-packages (from clean-fid==0.1.35->-r requirements.txt (line 22)) (0.15.2)\n",
            "Requirement already satisfied: setuptools in /usr/local/lib/python3.9/site-packages (from imageio-ffmpeg==0.4.9->-r requirements.txt (line 64)) (68.2.2)\n",
            "Requirement already satisfied: wheel in /usr/local/lib/python3.9/site-packages (from nvidia-cublas-cu11==11.10.3.66->-r requirements.txt (line 94)) (0.41.2)\n",
            "Using cached argparse-1.4.0-py2.py3-none-any.whl (23 kB)\n",
            "Installing collected packages: argparse\n",
            "Successfully installed argparse-1.4.0\n",
            "\u001b[33mWARNING: Running pip as the 'root' user can result in broken permissions and conflicting behaviour with the system package manager. It is recommended to use a virtual environment instead: https://pip.pypa.io/warnings/venv\u001b[0m\u001b[33m\n",
            "\u001b[0m"
          ]
        }
      ]
    },
    {
      "cell_type": "code",
      "source": [
        "!git lfs install"
      ],
      "metadata": {
        "colab": {
          "base_uri": "https://localhost:8080/"
        },
        "id": "ChesV3b24glg",
        "outputId": "c794eafa-bd2c-4e65-b312-ef0a144cc58c"
      },
      "execution_count": null,
      "outputs": [
        {
          "output_type": "stream",
          "name": "stdout",
          "text": [
            "/bin/bash: /usr/local/lib/libtinfo.so.6: no version information available (required by /bin/bash)\n",
            "Updated git hooks.\n",
            "Git LFS initialized.\n"
          ]
        }
      ]
    },
    {
      "cell_type": "code",
      "source": [
        "!git clone https://www.modelscope.cn/iic/UniAnimate.git"
      ],
      "metadata": {
        "colab": {
          "base_uri": "https://localhost:8080/"
        },
        "id": "eCavy7pb7R-8",
        "outputId": "42e05802-3c04-42a2-bf8e-b3a14e19736e"
      },
      "execution_count": null,
      "outputs": [
        {
          "output_type": "stream",
          "name": "stdout",
          "text": [
            "/bin/bash: /usr/local/lib/libtinfo.so.6: no version information available (required by /bin/bash)\n",
            "Cloning into 'UniAnimate'...\n",
            "remote: Enumerating objects: 18, done.\u001b[K\n",
            "remote: Counting objects: 100% (18/18), done.\u001b[K\n",
            "remote: Compressing objects: 100% (17/17), done.\u001b[K\n",
            "remote: Total 18 (delta 1), reused 0 (delta 0), pack-reused 0\u001b[K\n",
            "Receiving objects: 100% (18/18), done.\n",
            "Resolving deltas: 100% (1/1), done.\n",
            "Filtering content: 100% (5/5), 6.13 GiB | 9.17 MiB/s, done.\n",
            "Encountered 2 file(s) that may not have been copied correctly on Windows:\n",
            "\tv2-1_512-ema-pruned.ckpt\n",
            "\tunianimate_16f_32f_non_ema_223000.pth\n",
            "\n",
            "See: `git lfs help smudge` for more details.\n"
          ]
        }
      ]
    },
    {
      "cell_type": "code",
      "source": [
        "!mv -i ./UniAnimate ./checkpoints"
      ],
      "metadata": {
        "colab": {
          "base_uri": "https://localhost:8080/"
        },
        "id": "vVxhmJwu7MjC",
        "outputId": "8347cd4b-f362-4d81-8636-72f934927a95"
      },
      "execution_count": null,
      "outputs": [
        {
          "output_type": "stream",
          "name": "stdout",
          "text": [
            "/bin/bash: /usr/local/lib/libtinfo.so.6: no version information available (required by /bin/bash)\n"
          ]
        }
      ]
    },
    {
      "cell_type": "code",
      "source": [
        "!python run_align_pose.py  --ref_name data/images/WOMEN-Blouses_Shirts-id_00004955-01_4_full.jpg --source_video_paths data/videos/source_video.mp4 --saved_pose_dir data/saved_pose/WOMEN-Blouses_Shirts-id_00004955-01_4_full"
      ],
      "metadata": {
        "colab": {
          "base_uri": "https://localhost:8080/"
        },
        "id": "mRm9RVh9_7zZ",
        "outputId": "e20cd860-1cbe-461c-86b0-6928797868ab"
      },
      "execution_count": null,
      "outputs": [
        {
          "output_type": "stream",
          "name": "stdout",
          "text": [
            "/bin/bash: /usr/local/lib/libtinfo.so.6: no version information available (required by /bin/bash)\n",
            "2024-07-17 09:22:38,259 - dw pose extraction - INFO - There are 1 videos for extracting poses\n",
            "2024-07-17 09:22:38,259 - dw pose extraction - INFO - LOAD: DW Pose Model\n",
            "/usr/local/lib/python3.9/site-packages/onnxruntime/capi/onnxruntime_inference_collection.py:69: UserWarning: Specified provider 'CUDAExecutionProvider' is not in available provider names.Available providers: 'AzureExecutionProvider, CPUExecutionProvider'\n",
            "  warnings.warn(\n",
            "2024-07-17 09:22:40,582 - dw pose extraction - INFO - 0/1, data/videos/source_video.mp4\n",
            "Traceback (most recent call last):\n",
            "  File \"/content/UniAnimate/run_align_pose.py\", line 712, in <module>\n",
            "    mp_main(args)\n",
            "  File \"/content/UniAnimate/run_align_pose.py\", line 216, in mp_main\n",
            "    pose = dw_func(i, frame, dwpose_model)\n",
            "  File \"/content/UniAnimate/run_align_pose.py\", line 189, in dw_func\n",
            "    pose = dwpose_model(frame)\n",
            "  File \"/content/UniAnimate/run_align_pose.py\", line 102, in __call__\n",
            "    candidate, subset = self.pose_estimation(oriImg)\n",
            "  File \"/content/UniAnimate/dwpose/wholebody.py\", line 20, in __call__\n",
            "    det_result = inference_detector(self.session_det, oriImg)\n",
            "  File \"/content/UniAnimate/dwpose/onnxdet.py\", line 104, in inference_detector\n",
            "    output = session.run(None, ort_inputs)\n",
            "  File \"/usr/local/lib/python3.9/site-packages/onnxruntime/capi/onnxruntime_inference_collection.py\", line 220, in run\n",
            "    return self._sess.run(output_names, input_feed, run_options)\n",
            "KeyboardInterrupt\n",
            "^C\n"
          ]
        }
      ]
    },
    {
      "cell_type": "code",
      "source": [
        "!python inference.py --cfg configs/UniAnimate_infer.yaml"
      ],
      "metadata": {
        "colab": {
          "base_uri": "https://localhost:8080/"
        },
        "id": "rCPO-xpQAimh",
        "outputId": "45f764db-5598-4074-9876-9e0c9d5205b8"
      },
      "execution_count": null,
      "outputs": [
        {
          "output_type": "stream",
          "name": "stdout",
          "text": [
            "/bin/bash: /usr/local/lib/libtinfo.so.6: no version information available (required by /bin/bash)\n",
            "[2024-07-17 09:24:55,366] INFO: {'__name__': 'Config: VideoLDM Decoder', 'mean': [0.5, 0.5, 0.5], 'std': [0.5, 0.5, 0.5], 'max_words': 1000, 'num_workers': 8, 'prefetch_factor': 2, 'resolution': [512, 768], 'vit_out_dim': 1024, 'vit_resolution': [224, 224], 'depth_clamp': 10.0, 'misc_size': 384, 'depth_std': 20.0, 'save_fps': 8, 'frame_lens': [32, 32, 32, 1], 'sample_fps': [4], 'vid_dataset': {'type': 'VideoBaseDataset', 'data_list': [], 'max_words': 1000, 'resolution': [448, 256]}, 'img_dataset': {'type': 'ImageBaseDataset', 'data_list': ['laion_400m'], 'max_words': 1000, 'resolution': [448, 256]}, 'batch_sizes': {'1': 256, '4': 4, '8': 4, '16': 4}, 'Diffusion': {'type': 'DiffusionDDIM', 'schedule': 'linear_sd', 'schedule_param': {'num_timesteps': 1000, 'init_beta': 0.00085, 'last_beta': 0.012, 'zero_terminal_snr': True}, 'mean_type': 'v', 'loss_type': 'mse', 'var_type': 'fixed_small', 'rescale_timesteps': False, 'noise_strength': 0.1, 'ddim_timesteps': 50}, 'ddim_timesteps': 30, 'use_div_loss': False, 'p_zero': 0.9, 'guide_scale': 2.5, 'vit_mean': [0.48145466, 0.4578275, 0.40821073], 'vit_std': [0.26862954, 0.26130258, 0.27577711], 'sketch_mean': [0.485, 0.456, 0.406], 'sketch_std': [0.229, 0.224, 0.225], 'hist_sigma': 10.0, 'scale_factor': 0.18215, 'use_checkpoint': True, 'use_sharded_ddp': False, 'use_fsdp': False, 'use_fp16': True, 'temporal_attention': True, 'UNet': {'type': 'UNetSD_UniAnimate', 'in_dim': 4, 'dim': 320, 'y_dim': 1024, 'context_dim': 1024, 'out_dim': 4, 'dim_mult': [1, 2, 4, 4], 'num_heads': 8, 'head_dim': 64, 'num_res_blocks': 2, 'attn_scales': [1.0, 0.5, 0.25], 'dropout': 0.1, 'temporal_attention': True, 'temporal_attn_times': 1, 'use_checkpoint': True, 'use_fps_condition': False, 'use_sim_mask': False, 'config': 'None', 'num_tokens': 4}, 'guidances': [], 'auto_encoder': {'type': 'AutoencoderKL', 'ddconfig': {'double_z': True, 'z_channels': 4, 'resolution': 256, 'in_channels': 3, 'out_ch': 3, 'ch': 128, 'ch_mult': [1, 2, 4, 4], 'num_res_blocks': 2, 'attn_resolutions': [], 'dropout': 0.0, 'video_kernel_size': [3, 1, 1]}, 'embed_dim': 4, 'pretrained': 'checkpoints/v2-1_512-ema-pruned.ckpt'}, 'embedder': {'type': 'FrozenOpenCLIPTextVisualEmbedder', 'layer': 'penultimate', 'pretrained': 'checkpoints/open_clip_pytorch_model.bin'}, 'ema_decay': 0.9999, 'num_steps': 600000, 'lr': 5e-05, 'weight_decay': 0.0, 'betas': [0.9, 0.999], 'eps': 1e-08, 'chunk_size': 2, 'decoder_bs': 2, 'alpha': 0.7, 'save_ckp_interval': 1000, 'warmup_steps': 10, 'decay_mode': 'cosine', 'use_ema': False, 'load_from': None, 'Pretrain': {'type': 'pretrain_specific_strategies', 'fix_weight': False, 'grad_scale': 0.2, 'resume_checkpoint': 'models/jiuniu_0267000.pth', 'sd_keys_path': 'models/stable_diffusion_image_key_temporal_attention_x1.json'}, 'viz_interval': 1000, 'visual_train': {'type': 'VisualTrainTextImageToVideo'}, 'visual_inference': {'type': 'VisualGeneratedVideos'}, 'inference_list_path': '', 'log_interval': 100, 'log_dir': 'outputs/UniAnimate_infer', 'seed': 11, 'negative_prompt': 'Distorted, discontinuous, Ugly, blurry, low resolution, motionless, static, disfigured, disconnected limbs, Ugly faces, incomplete arms', 'max_frames': 32, 'round': 1, 'test_list_path': [[2, 'data/images/WOMEN-Blouses_Shirts-id_00004955-01_4_full.jpg', 'data/saved_pose/WOMEN-Blouses_Shirts-id_00004955-01_4_full'], [2, 'data/images/musk.jpg', 'data/saved_pose/musk'], [2, 'data/images/WOMEN-Blouses_Shirts-id_00005125-03_4_full.jpg', 'data/saved_pose/WOMEN-Blouses_Shirts-id_00005125-03_4_full'], [2, 'data/images/IMG_20240514_104337.jpg', 'data/saved_pose/IMG_20240514_104337']], 'partial_keys': [['image', 'local_image', 'dwpose'], ['image', 'randomref', 'dwpose']], 'TASK_TYPE': 'inference_unianimate_entrance', 'batch_size': 1, 'latent_random_ref': True, 'scale': 8, 'use_fps_condition': False, 'test_model': 'checkpoints/unianimate_16f_32f_non_ema_223000.pth', 'video_compositions': ['image', 'local_image', 'dwpose', 'randomref', 'randomref_pose'], 'use_DiffusionDPM': False, 'CPU_CLIP_VAE': True, 'cfg_file': 'configs/UniAnimate_infer.yaml', 'init_method': 'tcp://localhost:9999', 'debug': False, 'opts': [], 'pmi_rank': 0, 'pmi_world_size': 1, 'gpus_per_machine': 1, 'world_size': 1, 'gpu': 0, 'rank': 0, 'log_file': 'outputs/UniAnimate_infer/log_00.txt'}\n",
            "[2024-07-17 09:24:55,367] INFO: Running UniAnimate inference on gpu 0\n",
            "[2024-07-17 09:24:55,581] INFO: Loaded ViT-H-14 model config.\n",
            "[2024-07-17 09:25:06,419] INFO: Loading pretrained ViT-H-14 weights (checkpoints/open_clip_pytorch_model.bin).\n",
            "[2024-07-17 09:26:04,364] INFO: Restored from checkpoints/v2-1_512-ema-pruned.ckpt\n",
            "[2024-07-17 09:26:55,717] INFO: Load model from checkpoints/unianimate_16f_32f_non_ema_223000.pth with status <All keys matched successfully>\n",
            "[2024-07-17 09:26:57,646] INFO: There are 4 videos. with 1 times\n",
            "[2024-07-17 09:26:57,665] INFO: [0]/[4] Begin to sample data/images/WOMEN-Blouses_Shirts-id_00004955-01_4_full.jpg, pose sequence from data/saved_pose/WOMEN-Blouses_Shirts-id_00004955-01_4_full init seed 11 ...\n",
            "[2024-07-17 09:27:04,006] INFO: Current seed 11 ...\n",
            "100% 31/31 [07:23<00:00, 14.31s/it]\n",
            "^C\n"
          ]
        }
      ]
    },
    {
      "cell_type": "code",
      "source": [
        "!python inference.py --cfg configs/UniAnimate_infer.yaml"
      ],
      "metadata": {
        "colab": {
          "base_uri": "https://localhost:8080/"
        },
        "id": "KsD6XzdWDb_1",
        "outputId": "feb07026-c848-4762-b344-18599d134811"
      },
      "execution_count": null,
      "outputs": [
        {
          "output_type": "stream",
          "name": "stdout",
          "text": [
            "/bin/bash: /usr/local/lib/libtinfo.so.6: no version information available (required by /bin/bash)\n",
            "[2024-07-17 09:37:44,322] INFO: {'__name__': 'Config: VideoLDM Decoder', 'mean': [0.5, 0.5, 0.5], 'std': [0.5, 0.5, 0.5], 'max_words': 1000, 'num_workers': 8, 'prefetch_factor': 2, 'resolution': [512, 768], 'vit_out_dim': 1024, 'vit_resolution': [224, 224], 'depth_clamp': 10.0, 'misc_size': 384, 'depth_std': 20.0, 'save_fps': 8, 'frame_lens': [32, 32, 32, 1], 'sample_fps': [4], 'vid_dataset': {'type': 'VideoBaseDataset', 'data_list': [], 'max_words': 1000, 'resolution': [448, 256]}, 'img_dataset': {'type': 'ImageBaseDataset', 'data_list': ['laion_400m'], 'max_words': 1000, 'resolution': [448, 256]}, 'batch_sizes': {'1': 256, '4': 4, '8': 4, '16': 4}, 'Diffusion': {'type': 'DiffusionDDIM', 'schedule': 'linear_sd', 'schedule_param': {'num_timesteps': 1000, 'init_beta': 0.00085, 'last_beta': 0.012, 'zero_terminal_snr': True}, 'mean_type': 'v', 'loss_type': 'mse', 'var_type': 'fixed_small', 'rescale_timesteps': False, 'noise_strength': 0.1, 'ddim_timesteps': 50}, 'ddim_timesteps': 30, 'use_div_loss': False, 'p_zero': 0.9, 'guide_scale': 2.5, 'vit_mean': [0.48145466, 0.4578275, 0.40821073], 'vit_std': [0.26862954, 0.26130258, 0.27577711], 'sketch_mean': [0.485, 0.456, 0.406], 'sketch_std': [0.229, 0.224, 0.225], 'hist_sigma': 10.0, 'scale_factor': 0.18215, 'use_checkpoint': True, 'use_sharded_ddp': False, 'use_fsdp': False, 'use_fp16': True, 'temporal_attention': True, 'UNet': {'type': 'UNetSD_UniAnimate', 'in_dim': 4, 'dim': 320, 'y_dim': 1024, 'context_dim': 1024, 'out_dim': 4, 'dim_mult': [1, 2, 4, 4], 'num_heads': 8, 'head_dim': 64, 'num_res_blocks': 2, 'attn_scales': [1.0, 0.5, 0.25], 'dropout': 0.1, 'temporal_attention': True, 'temporal_attn_times': 1, 'use_checkpoint': True, 'use_fps_condition': False, 'use_sim_mask': False, 'config': 'None', 'num_tokens': 4}, 'guidances': [], 'auto_encoder': {'type': 'AutoencoderKL', 'ddconfig': {'double_z': True, 'z_channels': 4, 'resolution': 256, 'in_channels': 3, 'out_ch': 3, 'ch': 128, 'ch_mult': [1, 2, 4, 4], 'num_res_blocks': 2, 'attn_resolutions': [], 'dropout': 0.0, 'video_kernel_size': [3, 1, 1]}, 'embed_dim': 4, 'pretrained': 'checkpoints/v2-1_512-ema-pruned.ckpt'}, 'embedder': {'type': 'FrozenOpenCLIPTextVisualEmbedder', 'layer': 'penultimate', 'pretrained': 'checkpoints/open_clip_pytorch_model.bin'}, 'ema_decay': 0.9999, 'num_steps': 600000, 'lr': 5e-05, 'weight_decay': 0.0, 'betas': [0.9, 0.999], 'eps': 1e-08, 'chunk_size': 2, 'decoder_bs': 2, 'alpha': 0.7, 'save_ckp_interval': 1000, 'warmup_steps': 10, 'decay_mode': 'cosine', 'use_ema': False, 'load_from': None, 'Pretrain': {'type': 'pretrain_specific_strategies', 'fix_weight': False, 'grad_scale': 0.2, 'resume_checkpoint': 'models/jiuniu_0267000.pth', 'sd_keys_path': 'models/stable_diffusion_image_key_temporal_attention_x1.json'}, 'viz_interval': 1000, 'visual_train': {'type': 'VisualTrainTextImageToVideo'}, 'visual_inference': {'type': 'VisualGeneratedVideos'}, 'inference_list_path': '', 'log_interval': 100, 'log_dir': 'outputs/UniAnimate_infer', 'seed': 11, 'negative_prompt': 'Distorted, discontinuous, Ugly, blurry, low resolution, motionless, static, disfigured, disconnected limbs, Ugly faces, incomplete arms', 'max_frames': 32, 'round': 1, 'test_list_path': [[2, 'data/images/WOMEN-Blouses_Shirts-id_00004955-01_4_full.jpg', 'data/saved_pose/WOMEN-Blouses_Shirts-id_00004955-01_4_full'], [2, 'data/images/musk.jpg', 'data/saved_pose/musk'], [2, 'data/images/WOMEN-Blouses_Shirts-id_00005125-03_4_full.jpg', 'data/saved_pose/WOMEN-Blouses_Shirts-id_00005125-03_4_full'], [2, 'data/images/IMG_20240514_104337.jpg', 'data/saved_pose/IMG_20240514_104337']], 'partial_keys': [['image', 'local_image', 'dwpose'], ['image', 'randomref', 'dwpose']], 'TASK_TYPE': 'inference_unianimate_entrance', 'batch_size': 1, 'latent_random_ref': True, 'scale': 8, 'use_fps_condition': False, 'test_model': 'checkpoints/unianimate_16f_32f_non_ema_223000.pth', 'video_compositions': ['image', 'local_image', 'dwpose', 'randomref', 'randomref_pose'], 'use_DiffusionDPM': False, 'CPU_CLIP_VAE': True, 'cfg_file': 'configs/UniAnimate_infer.yaml', 'init_method': 'tcp://localhost:9999', 'debug': False, 'opts': [], 'pmi_rank': 0, 'pmi_world_size': 1, 'gpus_per_machine': 1, 'world_size': 1, 'gpu': 0, 'rank': 0, 'log_file': 'outputs/UniAnimate_infer/log_00.txt'}\n",
            "[2024-07-17 09:37:44,323] INFO: Running UniAnimate inference on gpu 0\n",
            "[2024-07-17 09:37:44,514] INFO: Loaded ViT-H-14 model config.\n",
            "[2024-07-17 09:37:55,245] INFO: Loading pretrained ViT-H-14 weights (checkpoints/open_clip_pytorch_model.bin).\n",
            "[2024-07-17 09:38:47,744] INFO: Restored from checkpoints/v2-1_512-ema-pruned.ckpt\n",
            "[2024-07-17 09:39:28,214] INFO: Load model from checkpoints/unianimate_16f_32f_non_ema_223000.pth with status <All keys matched successfully>\n",
            "[2024-07-17 09:39:29,877] INFO: There are 4 videos. with 1 times\n",
            "[2024-07-17 09:39:29,893] INFO: [0]/[4] Begin to sample data/images/WOMEN-Blouses_Shirts-id_00004955-01_4_full.jpg, pose sequence from data/saved_pose/WOMEN-Blouses_Shirts-id_00004955-01_4_full init seed 11 ...\n",
            "[2024-07-17 09:39:35,229] INFO: Current seed 11 ...\n",
            "100% 31/31 [07:23<00:00, 14.32s/it]\n",
            "^C\n"
          ]
        }
      ]
    },
    {
      "cell_type": "code",
      "source": [
        "!python inference.py --cfg configs/UniAnimate_infer_long.yaml"
      ],
      "metadata": {
        "colab": {
          "base_uri": "https://localhost:8080/"
        },
        "id": "z3DqeGI2F6-6",
        "outputId": "53d52b5c-8ea7-4725-cdf1-e0c8fbb29b92"
      },
      "execution_count": null,
      "outputs": [
        {
          "output_type": "stream",
          "name": "stdout",
          "text": [
            "/bin/bash: /usr/local/lib/libtinfo.so.6: no version information available (required by /bin/bash)\n",
            "[2024-07-17 09:50:57,703] INFO: {'__name__': 'Config: VideoLDM Decoder', 'mean': [0.5, 0.5, 0.5], 'std': [0.5, 0.5, 0.5], 'max_words': 1000, 'num_workers': 8, 'prefetch_factor': 2, 'resolution': [768, 1216], 'vit_out_dim': 1024, 'vit_resolution': [224, 224], 'depth_clamp': 10.0, 'misc_size': 384, 'depth_std': 20.0, 'save_fps': 8, 'frame_lens': [32, 32, 32, 1], 'sample_fps': [4], 'vid_dataset': {'type': 'VideoBaseDataset', 'data_list': [], 'max_words': 1000, 'resolution': [448, 256]}, 'img_dataset': {'type': 'ImageBaseDataset', 'data_list': ['laion_400m'], 'max_words': 1000, 'resolution': [448, 256]}, 'batch_sizes': {'1': 256, '4': 4, '8': 4, '16': 4}, 'Diffusion': {'type': 'DiffusionDDIMLong', 'schedule': 'linear_sd', 'schedule_param': {'num_timesteps': 1000, 'init_beta': 0.00085, 'last_beta': 0.012, 'zero_terminal_snr': True}, 'mean_type': 'v', 'loss_type': 'mse', 'var_type': 'fixed_small', 'rescale_timesteps': False, 'noise_strength': 0.1, 'ddim_timesteps': 50}, 'ddim_timesteps': 30, 'use_div_loss': False, 'p_zero': 0.9, 'guide_scale': 2.5, 'vit_mean': [0.48145466, 0.4578275, 0.40821073], 'vit_std': [0.26862954, 0.26130258, 0.27577711], 'sketch_mean': [0.485, 0.456, 0.406], 'sketch_std': [0.229, 0.224, 0.225], 'hist_sigma': 10.0, 'scale_factor': 0.18215, 'use_checkpoint': True, 'use_sharded_ddp': False, 'use_fsdp': False, 'use_fp16': True, 'temporal_attention': True, 'UNet': {'type': 'UNetSD_UniAnimate', 'in_dim': 4, 'dim': 320, 'y_dim': 1024, 'context_dim': 1024, 'out_dim': 4, 'dim_mult': [1, 2, 4, 4], 'num_heads': 8, 'head_dim': 64, 'num_res_blocks': 2, 'attn_scales': [1.0, 0.5, 0.25], 'dropout': 0.1, 'temporal_attention': True, 'temporal_attn_times': 1, 'use_checkpoint': True, 'use_fps_condition': False, 'use_sim_mask': False, 'config': 'None', 'num_tokens': 4}, 'guidances': [], 'auto_encoder': {'type': 'AutoencoderKL', 'ddconfig': {'double_z': True, 'z_channels': 4, 'resolution': 256, 'in_channels': 3, 'out_ch': 3, 'ch': 128, 'ch_mult': [1, 2, 4, 4], 'num_res_blocks': 2, 'attn_resolutions': [], 'dropout': 0.0, 'video_kernel_size': [3, 1, 1]}, 'embed_dim': 4, 'pretrained': 'checkpoints/v2-1_512-ema-pruned.ckpt'}, 'embedder': {'type': 'FrozenOpenCLIPTextVisualEmbedder', 'layer': 'penultimate', 'pretrained': 'checkpoints/open_clip_pytorch_model.bin'}, 'ema_decay': 0.9999, 'num_steps': 600000, 'lr': 5e-05, 'weight_decay': 0.0, 'betas': [0.9, 0.999], 'eps': 1e-08, 'chunk_size': 2, 'decoder_bs': 2, 'alpha': 0.7, 'save_ckp_interval': 1000, 'warmup_steps': 10, 'decay_mode': 'cosine', 'use_ema': False, 'load_from': None, 'Pretrain': {'type': 'pretrain_specific_strategies', 'fix_weight': False, 'grad_scale': 0.2, 'resume_checkpoint': 'models/jiuniu_0267000.pth', 'sd_keys_path': 'models/stable_diffusion_image_key_temporal_attention_x1.json'}, 'viz_interval': 1000, 'visual_train': {'type': 'VisualTrainTextImageToVideo'}, 'visual_inference': {'type': 'VisualGeneratedVideos'}, 'inference_list_path': '', 'log_interval': 100, 'log_dir': 'outputs/UniAnimate_infer_long', 'seed': 7, 'negative_prompt': 'Distorted, discontinuous, Ugly, blurry, low resolution, motionless, static, disfigured, disconnected limbs, Ugly faces, incomplete arms', 'round': 1, 'context_size': 32, 'context_stride': 1, 'context_overlap': 8, 'max_frames': 'None', 'test_list_path': [[2, 'data/images/WOMEN-Blouses_Shirts-id_00004955-01_4_full.jpg', 'data/saved_pose/WOMEN-Blouses_Shirts-id_00004955-01_4_full'], [2, 'data/images/musk.jpg', 'data/saved_pose/musk'], [2, 'data/images/WOMEN-Blouses_Shirts-id_00005125-03_4_full.jpg', 'data/saved_pose/WOMEN-Blouses_Shirts-id_00005125-03_4_full'], [2, 'data/images/IMG_20240514_104337.jpg', 'data/saved_pose/IMG_20240514_104337'], [2, 'data/images/IMG_20240514_104337.jpg', 'data/saved_pose/IMG_20240514_104337_dance'], [2, 'data/images/WOMEN-Blouses_Shirts-id_00005125-03_4_full.jpg', 'data/saved_pose/WOMEN-Blouses_Shirts-id_00005125-03_4_full_dance']], 'TASK_TYPE': 'inference_unianimate_long_entrance', 'batch_size': 1, 'latent_random_ref': True, 'scale': 8, 'use_fps_condition': False, 'test_model': 'checkpoints/unianimate_16f_32f_non_ema_223000.pth', 'partial_keys': [['image', 'randomref', 'dwpose']], 'video_compositions': ['image', 'local_image', 'dwpose', 'randomref', 'randomref_pose'], 'CPU_CLIP_VAE': True, 'context_batch_size': 1, 'cfg_file': 'configs/UniAnimate_infer_long.yaml', 'init_method': 'tcp://localhost:9999', 'debug': False, 'opts': [], 'pmi_rank': 0, 'pmi_world_size': 1, 'gpus_per_machine': 1, 'world_size': 1, 'gpu': 0, 'rank': 0, 'log_file': 'outputs/UniAnimate_infer_long/log_00.txt'}\n",
            "[2024-07-17 09:50:57,703] INFO: Running UniAnimate inference on gpu 0\n",
            "[2024-07-17 09:50:57,900] INFO: Loaded ViT-H-14 model config.\n",
            "[2024-07-17 09:51:07,658] INFO: Loading pretrained ViT-H-14 weights (checkpoints/open_clip_pytorch_model.bin).\n",
            "[2024-07-17 09:51:59,311] INFO: Restored from checkpoints/v2-1_512-ema-pruned.ckpt\n",
            "[2024-07-17 09:52:36,753] INFO: Load model from checkpoints/unianimate_16f_32f_non_ema_223000.pth with status <All keys matched successfully>\n",
            "[2024-07-17 09:52:38,418] INFO: There are 6 videos. with 1 times\n",
            "[2024-07-17 09:52:38,434] INFO: [0]/[6] Begin to sample data/images/WOMEN-Blouses_Shirts-id_00004955-01_4_full.jpg, pose sequence from data/saved_pose/WOMEN-Blouses_Shirts-id_00004955-01_4_full init seed 7 ...\n",
            "^C\n"
          ]
        }
      ]
    }
  ]
}